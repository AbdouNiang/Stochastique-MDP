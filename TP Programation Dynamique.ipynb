{
 "cells": [
  {
   "cell_type": "code",
   "execution_count": 1,
   "id": "32e4c01e",
   "metadata": {},
   "outputs": [],
   "source": [
    "import numpy as np"
   ]
  },
  {
   "cell_type": "markdown",
   "id": "4dcef222",
   "metadata": {},
   "source": [
    "# Question 1 Vous devez tout d’abord écrire une structure de données d’arbre pondéré comme celui de la figure ci-dessus"
   ]
  },
  {
   "cell_type": "code",
   "execution_count": 2,
   "id": "0f07a477",
   "metadata": {},
   "outputs": [],
   "source": [
    "class Graph:\n",
    "    \n",
    "    def __init__(self):\n",
    "        self.poid = {} # Seule les arrêtes sont enregistrées\n",
    "        self.value_functions = {} # Stockage des fonctions de valeur\n",
    "    \n",
    "    def weight(self,parent, etat_parent,child, etat_child, poid): # le couple (child,etat_child) reprente le noeud\n",
    "        \n",
    "        self.poid['(' + str(parent)+','+str(etat_parent)+')' +' <--> '+'(' +str(child)+','+str(etat_child)+')'] = poid\n",
    "    def display(self):\n",
    "        for k in self.poid.keys():\n",
    "            print(k,':',self.poid[k])\n"
   ]
  },
  {
   "cell_type": "code",
   "execution_count": 3,
   "id": "c6c0ce21",
   "metadata": {
    "scrolled": true
   },
   "outputs": [
    {
     "name": "stdout",
     "output_type": "stream",
     "text": [
      "(0,0) <--> (1,1) : 1\n",
      "(0,0) <--> (1,2) : 5\n",
      "(0,0) <--> (1,3) : -3\n",
      "(1,1) <--> (2,1) : -2\n",
      "(1,1) <--> (2,2) : 5\n",
      "(1,2) <--> (2,1) : 2\n",
      "(1,2) <--> (2,2) : 7\n",
      "(1,2) <--> (2,3) : 4\n",
      "(1,3) <--> (2,2) : 7\n",
      "(1,3) <--> (2,3) : 3\n",
      "(2,1) <--> (3,1) : 3\n",
      "(2,1) <--> (3,2) : 5\n",
      "(2,2) <--> (3,1) : -2\n",
      "(2,2) <--> (3,2) : 1\n",
      "(2,2) <--> (3,3) : 2\n",
      "(2,3) <--> (3,2) : 0\n",
      "(2,3) <--> (3,3) : 4\n",
      "(3,1) <--> (4,1) : 0\n",
      "(3,2) <--> (4,1) : 0\n",
      "(3,3) <--> (4,1) : 0\n"
     ]
    }
   ],
   "source": [
    "g = Graph() # Initialisation du graphe\n",
    "g.weight(0, 0, 1, 1, 1)\n",
    "g.weight(0, 0, 1, 2, 5)\n",
    "g.weight(0, 0, 1, 3,-3)\n",
    "g.weight(1, 1, 2, 1,-2)\n",
    "g.weight(1, 1, 2, 2, 5)\n",
    "g.weight(1, 2, 2, 1, 2)\n",
    "g.weight(1, 2, 2, 2, 7)\n",
    "g.weight(1, 2, 2, 3, 4)\n",
    "g.weight(1, 3, 2, 2, 7)\n",
    "g.weight(1, 3, 2, 3, 3)\n",
    "g.weight(2, 1, 3, 1, 3)\n",
    "g.weight(2, 1, 3, 2, 5)\n",
    "g.weight(2, 2, 3, 1,-2)\n",
    "g.weight(2, 2, 3, 2, 1)\n",
    "g.weight(2, 2, 3, 3, 2)\n",
    "g.weight(2, 3, 3, 2, 0)\n",
    "g.weight(2, 3, 3, 3, 4)\n",
    "g.weight(3, 1, 4, 1, 0)\n",
    "g.weight(3, 2, 4, 1, 0)\n",
    "g.weight(3, 3, 4, 1, 0)\n",
    "\n",
    "g.display()"
   ]
  },
  {
   "cell_type": "markdown",
   "id": "f4b9ef3f",
   "metadata": {},
   "source": [
    "# Question 2 Un premier programme déterminera par la méthode de récursivité inverse la fonction de valeur dans chaque état du graphe pour chaque niveau de l’arbre."
   ]
  },
  {
   "cell_type": "code",
   "execution_count": 4,
   "id": "1047379e",
   "metadata": {},
   "outputs": [],
   "source": [
    "# Fonction permettant de recuperer les actions qui ont été prises pour atteindre un état spécifique à partir de l'état précédent\n",
    "def recupe_action(child,etat_child):\n",
    "    poid = list(g.poid.keys()) # Récupération de toutes les arrêtes \n",
    "    items = []\n",
    "    for p in poid:\n",
    "        if '-> (' + str(child)+','+str(etat_child)+')' in p :\n",
    "            \n",
    "        \n",
    "            items.append(p)\n",
    "    return items\n"
   ]
  },
  {
   "cell_type": "code",
   "execution_count": 5,
   "id": "028afc0d",
   "metadata": {},
   "outputs": [
    {
     "data": {
      "text/plain": [
       "['(0,0) <--> (1,1)']"
      ]
     },
     "execution_count": 5,
     "metadata": {},
     "output_type": "execute_result"
    }
   ],
   "source": [
    "recupe_action(1,1)"
   ]
  },
  {
   "cell_type": "code",
   "execution_count": 6,
   "id": "25d8ec5d",
   "metadata": {},
   "outputs": [],
   "source": [
    "def V_etoile(child, etat_child):   # Cette fonction calcule la valeur de la fonction de valeur optimale V*(s) pour un état child et etat_child donnée\n",
    "    if child == 0: \n",
    "        val = 0\n",
    "    else:\n",
    "        vals = []\n",
    "        for p in recupe_action(child, etat_child):\n",
    "            try:\n",
    "                vals.append(g.poid[p] + V_etoile(int(p[1]), int(p[3]))) # Appel récursif de V_etoile\n",
    "            except KeyError:    # Si une erreur KeyError est levée, cela signifie que l'action n'a pas été trouvée et on l'ignore \n",
    "                pass\n",
    "        if vals:\n",
    "            val = max(vals)\n",
    "        else:\n",
    "            val = float('-inf')\n",
    "    g.value_functions['V*(k='+str(child)+',s='+str(etat_child)+')'] = val\n",
    "   \n",
    "    return val\n"
   ]
  },
  {
   "cell_type": "code",
   "execution_count": 7,
   "id": "a10285e9",
   "metadata": {
    "scrolled": true
   },
   "outputs": [
    {
     "name": "stdout",
     "output_type": "stream",
     "text": [
      "V*(k=0,s=0) = 0\n",
      "V*(k=1,s=1) = 1\n",
      "V*(k=1,s=2) = 5\n",
      "V*(k=2,s=1) = 7\n",
      "V*(k=1,s=3) = -3\n",
      "V*(k=2,s=2) = 12\n",
      "V*(k=3,s=1) = 10\n",
      "V*(k=2,s=3) = 9\n",
      "V*(k=3,s=2) = 13\n",
      "V*(k=3,s=3) = 14\n",
      "V*(k=4,s=1) = 14\n"
     ]
    }
   ],
   "source": [
    "V_etoile(4,1)\n",
    "for k in g.value_functions.keys():\n",
    "    print(k,'=',g.value_functions[k])\n"
   ]
  },
  {
   "cell_type": "markdown",
   "id": "6e483519",
   "metadata": {},
   "source": [
    "# Question 3 Un second programme calculera la politique optimale et donc le chemin le plus long depuis la racine (k = 0) jusqu’aux feuilles (k = T)."
   ]
  },
  {
   "cell_type": "code",
   "execution_count": 8,
   "id": "cb7be6a7",
   "metadata": {},
   "outputs": [],
   "source": [
    "def politique_optimale(k, s):   # cette fonction permet de determiner la politique optimale\n",
    "    politique = [] # la politique optimale est stocké dans une liste\n",
    "    while k != 0 or s != 0:\n",
    "        recupe_act = recupe_action(k, s)  \n",
    "        value_func = [g.value_functions['V*(k='+p[1]+',s='+p[3]+')'] for p in recupe_act] # recuperation de la fonction valeur\n",
    "        \n",
    "        value = value_func[0]\n",
    "        noeud = recupe_act[0]\n",
    "        for index, p in enumerate(value_func[1:], start = 1):\n",
    "            if p > value:\n",
    "                noeud = recupe_act[index]\n",
    "                value = p\n",
    "        k = int(noeud[1])\n",
    "        s = int(noeud[3])\n",
    "        politique.insert(0,'(k='+str(k)+',s='+str(s)+')')\n",
    "    return politique\n"
   ]
  },
  {
   "cell_type": "code",
   "execution_count": 9,
   "id": "23cb489d",
   "metadata": {},
   "outputs": [
    {
     "name": "stdout",
     "output_type": "stream",
     "text": [
      "Le chemin le plus long est : V*(k=4,s=1) = 14\n",
      "Voici le chemin : \n",
      "(k=0,s=0)\n",
      "    | \n",
      "    v\n",
      "(k=1,s=2)\n",
      "    | \n",
      "    v\n",
      "(k=2,s=2)\n",
      "    | \n",
      "    v\n",
      "(k=3,s=3)\n"
     ]
    }
   ],
   "source": [
    "politique =politique_optimale(4,1)\n",
    "print('Le chemin le plus long est : V*(k=4,s=1) =',g.value_functions['V*(k='+str(4)+',s='+str(1)+')'])\n",
    "print('Voici le chemin : ')\n",
    "for k in politique[:-1]:\n",
    "    print(k)\n",
    "    print('    | \\n    v')\n",
    "print(politique[len(politique)-1])\n"
   ]
  },
  {
   "cell_type": "markdown",
   "id": "9d47ffdb",
   "metadata": {},
   "source": [
    "# Question 4 Un premier programme correspond à l’algorithme de programmation dynamique par itération de la valeur."
   ]
  },
  {
   "cell_type": "code",
   "execution_count": 10,
   "id": "10f75db5",
   "metadata": {},
   "outputs": [],
   "source": [
    "import math"
   ]
  },
  {
   "cell_type": "code",
   "execution_count": 11,
   "id": "b07bf673",
   "metadata": {},
   "outputs": [],
   "source": [
    "n = 3\n",
    "m = 4\n",
    "gamma = 0.9\n",
    "start = np.array([2,0])  #point de depart de notre grille\n",
    "directions = {'LEFT':np.array([0,-1]),'UP':np.array([-1,0]),'RIGHT':np.array([0,1]),'DOWN':np.array([1,0])} # variable contenant les vecteurs de deplacement pour chaque direction\n",
    "actions = np.array(['LEFT','RIGHT','UP','DOWN'])  # nom des actions possibles"
   ]
  },
  {
   "cell_type": "code",
   "execution_count": 12,
   "id": "8805e135",
   "metadata": {},
   "outputs": [
    {
     "name": "stdout",
     "output_type": "stream",
     "text": [
      "[[ 0.  0.  0.  1.]\n",
      " [ 0. nan  0. -1.]\n",
      " [ 0.  0.  0.  0.]]\n"
     ]
    }
   ],
   "source": [
    "board = np.array([[ 0, 0,  0,  1],          \n",
    "                    [ 0, math.nan,  0, -1],       #notre grille contient une valeur nan qui représente état inaccessible\n",
    "                    [ 0,  0,  0,  0]])\n",
    "board_prev = board.copy()\n",
    "obstacles = [(1,1),(0,3),(1,3)]\n",
    "print(board)"
   ]
  },
  {
   "cell_type": "code",
   "execution_count": 13,
   "id": "92d03a5d",
   "metadata": {},
   "outputs": [],
   "source": [
    "def verifi_position(position):\n",
    "    if position[0] < 0 or position[0] >= n or position[1] < 0 or position[1] >= m or math.isnan(board[position[0],position[1]]):\n",
    "        return True\n",
    "    else:\n",
    "        return False"
   ]
  },
  {
   "cell_type": "code",
   "execution_count": 14,
   "id": "862557bc",
   "metadata": {},
   "outputs": [],
   "source": [
    "def probabilite_de_transition(position, action):  # on definit les probabilité de se deplacer de la position courante à la position suivante suivant une action donnée\n",
    "    sum_pond = 0   # on initialise la somme pondéré des proba de transion\n",
    "    next_position = position + directions[action]\n",
    "     # on verifie si la position est au mure ou obstacle , la proba de transition est multiplié par 0.8\n",
    "    if verifi_position(next_position):\n",
    "        sum_pond = sum_pond + board_prev[position[0],position[1]]*0.8\n",
    "    else:\n",
    "        sum_pond = sum_pond + board_prev[next_position[0],next_position[1]]*0.8\n",
    "    \n",
    "    # On calcule les deux direction perpendiculaire à l'action selon c'est left right up or down    \n",
    "    direction_perpendiculaire = []\n",
    "    if action == 'LEFT' or action == 'RIGHT':\n",
    "        direction_perpendiculaire.append('UP')\n",
    "        direction_perpendiculaire.append('DOWN')\n",
    "    else:\n",
    "        direction_perpendiculaire.append('LEFT')\n",
    "        direction_perpendiculaire.append('RIGHT')\n",
    "            \n",
    "    \n",
    "    for a in direction_perpendiculaire:\n",
    "        next_position = position + directions[a]\n",
    "        if verifi_position(next_position):\n",
    "            sum_pond = sum_pond + board_prev[position[0],position[1]]*0.1\n",
    "        else:\n",
    "            sum_pond = sum_pond + board_prev[next_position[0],next_position[1]]*0.1\n",
    "    return sum_pond"
   ]
  },
  {
   "cell_type": "code",
   "execution_count": 15,
   "id": "655512ff",
   "metadata": {},
   "outputs": [],
   "source": [
    "def value_iteration(position):\n",
    "    return  gamma*max([probabilite_de_transition(position,a) for a in actions])"
   ]
  },
  {
   "cell_type": "code",
   "execution_count": 16,
   "id": "99c21a4c",
   "metadata": {},
   "outputs": [
    {
     "name": "stdout",
     "output_type": "stream",
     "text": [
      "[[ 0.585  0.734  0.845  1.   ]\n",
      " [ 0.413    nan  0.565 -1.   ]\n",
      " [ 0.214  0.306  0.43   0.188]]\n"
     ]
    }
   ],
   "source": [
    "for i in range(5):   # on verifie les valeurs de la probabilité de transion pour 5 itération\n",
    "    for k in range(n):\n",
    "        for l in range(m):\n",
    "            if (k,l) not in obstacles:\n",
    "                board[k,l] = round(value_iteration([k,l]),3)\n",
    "    board_prev = board.copy()\n",
    "print(board)"
   ]
  },
  {
   "cell_type": "markdown",
   "id": "1585ffe0",
   "metadata": {},
   "source": [
    "# Question 5 Un second programme correspond à la détermination de la politique optimale par itération de la politique."
   ]
  },
  {
   "cell_type": "code",
   "execution_count": 17,
   "id": "4929c158",
   "metadata": {},
   "outputs": [],
   "source": [
    "def policy_iteration(position):\n",
    "    probabilite_de_transition_list = [probabilite_de_transition(position,a) for a in actions]\n",
    "    probabilite_de_transition_max = max(probabilite_de_transition_list)\n",
    "    policy = actions[np.argmax(probabilite_de_transition_list)]\n",
    "    return  gamma*probabilite_de_transition_max, policy\n",
    "\n",
    "def init_policy_board():\n",
    "    policy_board = []\n",
    "    for k in range(n):\n",
    "        policy_board.append([])\n",
    "        for l in range(m): \n",
    "            policy_board[k].append(\"     \")\n",
    "    policy_board = np.array(policy_board)      \n",
    "    policy_board[0,3] = 'UP'\n",
    "    policy_board[1,3] = 'LEFT'\n",
    "    policy_board_prev = policy_board.copy()\n",
    "    \n",
    "    return policy_board, policy_board_prev"
   ]
  },
  {
   "cell_type": "code",
   "execution_count": 18,
   "id": "278383ca",
   "metadata": {},
   "outputs": [
    {
     "name": "stdout",
     "output_type": "stream",
     "text": [
      "[['RIGHT' 'RIGHT' 'RIGHT' 'UP']\n",
      " ['UP' '     ' 'UP' 'LEFT']\n",
      " ['UP' 'RIGHT' 'UP' 'LEFT']] \n",
      "\n",
      "Nombre d iteration est :  3\n"
     ]
    }
   ],
   "source": [
    "policy_board, policy_board_prev = init_policy_board()\n",
    "it = 1\n",
    "while True:\n",
    "    for k in range(n):\n",
    "        for l in range(m):\n",
    "            if (k,l) not in obstacles:\n",
    "                result = policy_iteration([k,l])\n",
    "                board[k,l] = round(result[0],3)\n",
    "                policy_board[k,l]= result[1]\n",
    "    board_prev = board.copy()\n",
    "    it += 1\n",
    "    if np.array_equal(policy_board,policy_board_prev):\n",
    "        break\n",
    "    policy_board_prev = policy_board.copy()\n",
    "print(policy_board,'\\n')\n",
    "print('Nombre d iteration est : ',it)"
   ]
  },
  {
   "cell_type": "code",
   "execution_count": null,
   "id": "6b53b873",
   "metadata": {},
   "outputs": [],
   "source": []
  }
 ],
 "metadata": {
  "kernelspec": {
   "display_name": "Python 3 (ipykernel)",
   "language": "python",
   "name": "python3"
  },
  "language_info": {
   "codemirror_mode": {
    "name": "ipython",
    "version": 3
   },
   "file_extension": ".py",
   "mimetype": "text/x-python",
   "name": "python",
   "nbconvert_exporter": "python",
   "pygments_lexer": "ipython3",
   "version": "3.9.12"
  }
 },
 "nbformat": 4,
 "nbformat_minor": 5
}
